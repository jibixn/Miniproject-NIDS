{
 "cells": [
  {
   "cell_type": "code",
   "execution_count": 45,
   "id": "4a6f9f34-928d-42cc-a712-becc4d70ac72",
   "metadata": {},
   "outputs": [],
   "source": [
    "import os\n",
    "import pandas as pd\n",
    "import numpy as np\n",
    "from sklearn.preprocessing import StandardScaler,LabelEncoder\n",
    "from sklearn.decomposition import PCA\n",
    "from imblearn.over_sampling import RandomOverSampler\n",
    "from sklearn.model_selection import train_test_split\n",
    "from sklearn import tree\n",
    "from sklearn.ensemble import ExtraTreesClassifier\n",
    "from sklearn.metrics import accuracy_score, classification_report\n",
    "from sklearn.ensemble import RandomForestClassifier"
   ]
  },
  {
   "cell_type": "code",
   "execution_count": 11,
   "id": "b778fd0e-08fa-471d-acce-23115be3f4a0",
   "metadata": {},
   "outputs": [],
   "source": [
    "def load_dataset():\n",
    "    ds = []\n",
    "    for root, dirs, files in os.walk('CIC dataset/'):\n",
    "        for file in files:            \n",
    "            ds.append(pd.read_csv(os.path.join(root,file)))\n",
    "    # for i, data in enumerate(ds, start=1):\n",
    "    #     rows, cols = data.shape\n",
    "    #     print(f'ds{i} -> {rows} rows, {cols} columns')\n",
    "    return ds"
   ]
  },
  {
   "cell_type": "code",
   "execution_count": 13,
   "id": "9cbff917-e831-41ef-afa7-d832326e9943",
   "metadata": {},
   "outputs": [],
   "source": [
    "def preprocess_data(datas):    \n",
    "    #merging data\n",
    "    data = pd.concat(datas, axis = 0, ignore_index = True)\n",
    "    print(f\"Before duplicate removal{data.shape}\")\n",
    "\n",
    "    #remove leading or trailing whitespace from col names\n",
    "    col_names = {col: col.strip() for col in data.columns}\n",
    "    data.rename(columns = col_names, inplace = True)\n",
    "    \n",
    "    #duplicate rows removal\n",
    "    data = data.drop_duplicates(keep = 'first')\n",
    "    \n",
    "    #duplicate columns removal\n",
    "    columns = data.columns\n",
    "    identical_columns =[]\n",
    "    list_control = columns.copy().tolist()\n",
    "    for col1 in columns:\n",
    "        for col2 in columns:\n",
    "            if(col1!=col2):\n",
    "                if(data[col1].equals(data[col2])):\n",
    "                    if(col2 not in identical_columns and col2 in list_control):\n",
    "                        identical_columns.append(col2)\n",
    "                        if col1 in list_control:\n",
    "                            list_control.remove(col1)\n",
    "                        if col2 in list_control: \n",
    "                            list_control.remove(col2)\n",
    "                    elif(col2 in identical_columns and col2 in list_control):\n",
    "                        if col2 in list_control: \n",
    "                            list_control.remove(col2)    \n",
    "    for col in identical_columns:\n",
    "        data.drop(columns = col, inplace = True)\n",
    "                    \n",
    "    print(f\"After duplicate removal{data.shape}\")\n",
    "    \n",
    "    # Treating infinite values\n",
    "    data.replace([np.inf, -np.inf], np.nan, inplace=True)\n",
    "    \n",
    "    #removing rows with missing values\n",
    "    missing_rows = data.isna().any(axis=1).sum()\n",
    "    print(f'\\nTotal rows with missing values: {missing_rows}')\n",
    "    data = data.dropna()\n",
    "    nan_count = data.isnull().sum().sum()\n",
    "    print(f\"Total NaN values: {nan_count}\")\n",
    "    \n",
    "\n",
    "    \n",
    "    print(f\"After missing value rows' removal{data.shape}\")\n",
    "    \n",
    "    #splitting data\n",
    "    target = data['Label']\n",
    "    features = data.drop('Label',axis = 1)\n",
    "\n",
    "    \n",
    "    return features,target"
   ]
  },
  {
   "cell_type": "code",
   "execution_count": 15,
   "id": "e591a9cd-cfa2-48cc-8ba0-da15bf3f0550",
   "metadata": {},
   "outputs": [],
   "source": [
    "def encode_data(data):\n",
    "    encoder = LabelEncoder()\n",
    "    for col in data.columns:\n",
    "        if(data[col].dtype == 'object'):\n",
    "            data[col] = encoder.fit_transform(data[col])\n",
    "    nan_count = data.isnull().sum().sum()\n",
    "    print(f\"Total NaN values: {nan_count}\")\n",
    "    return ds"
   ]
  },
  {
   "cell_type": "code",
   "execution_count": 17,
   "id": "8155665a-19c0-4162-85d0-85acae6016bb",
   "metadata": {},
   "outputs": [],
   "source": [
    "def standardize_data(data):\n",
    "    scaler = StandardScaler()\n",
    "    nan_count = data.isnull().sum().sum()\n",
    "    print(f\"Total NaN values: {nan_count}\")\n",
    "    return scaler.fit_transform(data)"
   ]
  },
  {
   "cell_type": "code",
   "execution_count": 19,
   "id": "53d96a9e-e6d0-41b5-a9bd-7d4b898c1459",
   "metadata": {},
   "outputs": [],
   "source": [
    "def oversample(data,target):\n",
    "    sampler = RandomOverSampler(sampling_strategy = 'minority')\n",
    "    new_data,new_target = sampler.fit_resample(data,target)\n",
    "    return new_data, new_target"
   ]
  },
  {
   "cell_type": "code",
   "execution_count": 21,
   "id": "ae506bfd-d7d7-4e4b-acfe-d267fd754db1",
   "metadata": {},
   "outputs": [],
   "source": [
    "def dimensionality_reduction(data):    \n",
    "    pca = PCA(n_components = 10)\n",
    "    data = pca.fit_transform(data)\n",
    "    return data"
   ]
  },
  {
   "cell_type": "code",
   "execution_count": 55,
   "id": "acddadb1-ce1c-4721-8902-243467d54815",
   "metadata": {},
   "outputs": [],
   "source": [
    "def decision_tree(features, labels, test_x, test_y):\n",
    "    classifier = tree.DecisionTreeClassifier()\n",
    "    classifier.fit(features,labels)\n",
    "    # tree.plot_tree(classifier, max_depth = 3)\n",
    "    predictions = classifier.predict(test_x)\n",
    "    accuracy = accuracy_score(test_y, predictions)\n",
    "    report = classification_report(test_y, predictions) \n",
    "    print(f\"Accuracy = {accuracy*100:.2f}%\")\n",
    "    print(f\"Report = \\n{report}\")"
   ]
  },
  {
   "cell_type": "code",
   "execution_count": 57,
   "id": "98d520bb-5997-451b-b101-2d2a4e0cb1f9",
   "metadata": {},
   "outputs": [],
   "source": [
    "def extra_tree(features, labels, test_x, test_y):\n",
    "    classifier = ExtraTreesClassifier(n_estimators = 100)\n",
    "    classifier.fit(features,labels)\n",
    "    predictions = classifier.predict(test_x)\n",
    "    accuracy = accuracy_score(test_y, predictions)\n",
    "    report = classification_report(test_y, predictions,zero_division=1) \n",
    "    print(f\"Accuracy = {accuracy*100:.2f}%\")\n",
    "    print(f\"Report = \\n{report}\")"
   ]
  },
  {
   "cell_type": "code",
   "execution_count": 59,
   "id": "6970a2b4-7fe6-4047-94ff-fdb6ca41ca1c",
   "metadata": {},
   "outputs": [],
   "source": [
    "def random_forest(features,labels,test_x,test_y):\n",
    "    model = RandomForestClassifier(n_estimators=100, random_state=42, n_jobs=-1)\n",
    "    model.fit(features,labels)\n",
    "    y_pred = model.predict(test_x)\n",
    "    accuracy = accuracy_score(test_y, y_pred)\n",
    "    report = classification_report(test_y, y_pred) \n",
    "    print(f\"Accuracy = {accuracy*100:.2f}%\")\n",
    "    print(f\"Report = \\n{report}\")"
   ]
  },
  {
   "cell_type": "code",
   "execution_count": 27,
   "id": "2bb25219-eb0d-4f4a-948f-e53cb9d19a2f",
   "metadata": {},
   "outputs": [],
   "source": [
    "ds = load_dataset()"
   ]
  },
  {
   "cell_type": "code",
   "execution_count": 28,
   "id": "a7753987-2883-4d8f-a999-4a74d57a1671",
   "metadata": {},
   "outputs": [
    {
     "name": "stdout",
     "output_type": "stream",
     "text": [
      "Before duplicate removal(2830743, 79)\n",
      "After duplicate removal(2522362, 67)\n",
      "\n",
      "Total rows with missing values: 1564\n",
      "Total NaN values: 0\n",
      "After missing value rows' removal(2520798, 67)\n"
     ]
    }
   ],
   "source": [
    "ds,target = preprocess_data(ds)"
   ]
  },
  {
   "cell_type": "code",
   "execution_count": 29,
   "id": "e37af536-bd34-4915-8b71-7c76b18554ae",
   "metadata": {},
   "outputs": [
    {
     "name": "stdout",
     "output_type": "stream",
     "text": [
      "Total NaN values: 0\n"
     ]
    }
   ],
   "source": [
    "#convert categorical values to numerical\n",
    "ds = encode_data(ds)\n"
   ]
  },
  {
   "cell_type": "code",
   "execution_count": 30,
   "id": "f63dad4d-352a-434c-a59a-52d993d36306",
   "metadata": {},
   "outputs": [
    {
     "name": "stdout",
     "output_type": "stream",
     "text": [
      "Total NaN values: 0\n"
     ]
    }
   ],
   "source": [
    "ds = standardize_data(ds)"
   ]
  },
  {
   "cell_type": "code",
   "execution_count": 31,
   "id": "9a30cd23-ef75-4c2f-b899-5ecaaa67adb2",
   "metadata": {},
   "outputs": [
    {
     "name": "stdout",
     "output_type": "stream",
     "text": [
      "DS shape: (4615844, 66)\n"
     ]
    }
   ],
   "source": [
    "ds,target = oversample(ds,target)\n",
    "print(\"DS shape:\", ds.shape)"
   ]
  },
  {
   "cell_type": "code",
   "execution_count": 32,
   "id": "8f884449-94f5-481d-9587-8243a5997955",
   "metadata": {},
   "outputs": [
    {
     "name": "stdout",
     "output_type": "stream",
     "text": [
      "DS shape: (4615844, 10)\n",
      "[[-9.391995175263197 -1.4885123629789496 0.30591912204321814 ...\n",
      "  0.3093207000626895 1.2006419055097592 'BENIGN']\n",
      " [-9.446858281547547 -1.3939894617846957 0.3475871107197592 ...\n",
      "  0.07153114987566539 0.12992402758719468 'BENIGN']\n",
      " [-9.451897619559245 -1.403749290937708 0.34841416293072475 ...\n",
      "  0.07866966713530138 0.17455249954161928 'BENIGN']\n",
      " ...\n",
      " [9.417947254178088 0.5190888851129569 -3.748364016238078 ...\n",
      "  -0.09917274001990037 1.3176586807763795 'Heartbleed']\n",
      " [10.206014542010283 -0.32260596183209206 -0.35242576488970706 ...\n",
      "  -0.16447065370414807 0.37230536998253216 'Heartbleed']\n",
      " [10.206014542010283 -0.32260596183209206 -0.35242576488970706 ...\n",
      "  -0.16447065370414807 0.37230536998253216 'Heartbleed']]\n"
     ]
    }
   ],
   "source": [
    "ds = dimensionality_reduction(ds)\n",
    "print(\"DS shape:\", ds.shape)\n",
    "ds = np.column_stack((ds,target))\n",
    "print(ds)"
   ]
  },
  {
   "cell_type": "code",
   "execution_count": 34,
   "id": "f45d515e-4303-4a5f-91b7-14e4c3902ab0",
   "metadata": {},
   "outputs": [],
   "source": [
    "train_data, test_data = train_test_split(ds, test_size = 0.2)\n",
    "# test_data = np.delete(test_data, 10,1)\n",
    "x_train = train_data[:,:-1]\n",
    "y_train = train_data[:,-1]\n",
    "x_test = test_data[:,:-1]\n",
    "y_test = test_data[:,-1]"
   ]
  },
  {
   "cell_type": "code",
   "execution_count": 62,
   "id": "e225af52-3917-41b0-8145-686f513e923c",
   "metadata": {},
   "outputs": [
    {
     "name": "stdout",
     "output_type": "stream",
     "text": [
      "Accuracy = 99.81%\n",
      "Report = \n",
      "                            precision    recall  f1-score   support\n",
      "\n",
      "                    BENIGN       1.00      1.00      1.00    419448\n",
      "                       Bot       0.62      0.64      0.63       377\n",
      "                      DDoS       1.00      1.00      1.00     25466\n",
      "             DoS GoldenEye       0.97      0.96      0.96      2058\n",
      "                  DoS Hulk       1.00      1.00      1.00     34573\n",
      "          DoS Slowhttptest       0.98      0.99      0.98      1115\n",
      "             DoS slowloris       0.99      0.98      0.99      1043\n",
      "               FTP-Patator       1.00      1.00      1.00      1220\n",
      "                Heartbleed       1.00      1.00      1.00    418522\n",
      "              Infiltration       0.50      0.43      0.46         7\n",
      "                  PortScan       0.98      0.98      0.98     18208\n",
      "               SSH-Patator       0.97      0.98      0.97       684\n",
      "  Web Attack � Brute Force       0.72      0.73      0.73       307\n",
      "Web Attack � Sql Injection       0.20      0.25      0.22         4\n",
      "          Web Attack � XSS       0.40      0.39      0.39       137\n",
      "\n",
      "                  accuracy                           1.00    923169\n",
      "                 macro avg       0.82      0.82      0.82    923169\n",
      "              weighted avg       1.00      1.00      1.00    923169\n",
      "\n"
     ]
    }
   ],
   "source": [
    "decision_tree(x_train,y_train, x_test, y_test)"
   ]
  },
  {
   "cell_type": "code",
   "execution_count": 63,
   "id": "dcb7ea63-3bdd-4ac8-85db-8b71e1883dd8",
   "metadata": {},
   "outputs": [
    {
     "name": "stdout",
     "output_type": "stream",
     "text": [
      "Accuracy = 99.87%\n",
      "Report = \n",
      "                            precision    recall  f1-score   support\n",
      "\n",
      "                    BENIGN       1.00      1.00      1.00    419448\n",
      "                       Bot       0.77      0.62      0.69       377\n",
      "                      DDoS       1.00      1.00      1.00     25466\n",
      "             DoS GoldenEye       1.00      0.98      0.99      2058\n",
      "                  DoS Hulk       1.00      1.00      1.00     34573\n",
      "          DoS Slowhttptest       0.99      0.99      0.99      1115\n",
      "             DoS slowloris       0.99      0.99      0.99      1043\n",
      "               FTP-Patator       1.00      1.00      1.00      1220\n",
      "                Heartbleed       1.00      1.00      1.00    418522\n",
      "              Infiltration       0.83      0.71      0.77         7\n",
      "                  PortScan       0.99      0.99      0.99     18208\n",
      "               SSH-Patator       0.97      0.98      0.97       684\n",
      "  Web Attack � Brute Force       0.75      0.76      0.76       307\n",
      "Web Attack � Sql Injection       0.50      0.25      0.33         4\n",
      "          Web Attack � XSS       0.48      0.42      0.45       137\n",
      "\n",
      "                  accuracy                           1.00    923169\n",
      "                 macro avg       0.88      0.85      0.86    923169\n",
      "              weighted avg       1.00      1.00      1.00    923169\n",
      "\n"
     ]
    }
   ],
   "source": [
    "extra_tree(x_train,y_train, x_test, y_test)"
   ]
  },
  {
   "cell_type": "code",
   "execution_count": 61,
   "id": "aa20e8aa-fb57-4aa8-85a7-6e03c9dd2198",
   "metadata": {},
   "outputs": [
    {
     "name": "stdout",
     "output_type": "stream",
     "text": [
      "Accuracy = 99.87%\n",
      "Report = \n",
      "                            precision    recall  f1-score   support\n",
      "\n",
      "                    BENIGN       1.00      1.00      1.00    419448\n",
      "                       Bot       0.79      0.58      0.67       377\n",
      "                      DDoS       1.00      1.00      1.00     25466\n",
      "             DoS GoldenEye       1.00      0.98      0.99      2058\n",
      "                  DoS Hulk       1.00      1.00      1.00     34573\n",
      "          DoS Slowhttptest       0.99      0.99      0.99      1115\n",
      "             DoS slowloris       1.00      0.99      0.99      1043\n",
      "               FTP-Patator       1.00      1.00      1.00      1220\n",
      "                Heartbleed       1.00      1.00      1.00    418522\n",
      "              Infiltration       0.67      0.29      0.40         7\n",
      "                  PortScan       0.99      0.99      0.99     18208\n",
      "               SSH-Patator       0.98      0.98      0.98       684\n",
      "  Web Attack � Brute Force       0.75      0.77      0.76       307\n",
      "Web Attack � Sql Injection       1.00      0.25      0.40         4\n",
      "          Web Attack � XSS       0.46      0.39      0.42       137\n",
      "\n",
      "                  accuracy                           1.00    923169\n",
      "                 macro avg       0.91      0.81      0.84    923169\n",
      "              weighted avg       1.00      1.00      1.00    923169\n",
      "\n"
     ]
    }
   ],
   "source": [
    "random_forest(x_train,y_train, x_test, y_test)"
   ]
  },
  {
   "cell_type": "code",
   "execution_count": null,
   "id": "537dcc23-2277-4ca5-a8ee-5b2388724976",
   "metadata": {},
   "outputs": [],
   "source": []
  }
 ],
 "metadata": {
  "kernelspec": {
   "display_name": "Python [conda env:base] *",
   "language": "python",
   "name": "conda-base-py"
  },
  "language_info": {
   "codemirror_mode": {
    "name": "ipython",
    "version": 3
   },
   "file_extension": ".py",
   "mimetype": "text/x-python",
   "name": "python",
   "nbconvert_exporter": "python",
   "pygments_lexer": "ipython3",
   "version": "3.12.7"
  }
 },
 "nbformat": 4,
 "nbformat_minor": 5
}
