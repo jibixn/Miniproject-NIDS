{
 "cells": [
  {
   "cell_type": "code",
   "execution_count": 53,
   "id": "4a6f9f34-928d-42cc-a712-becc4d70ac72",
   "metadata": {},
   "outputs": [],
   "source": [
    "import os\n",
    "import pandas as pd\n",
    "import numpy as np\n",
    "from sklearn.preprocessing import StandardScaler,LabelEncoder\n",
    "from sklearn.decomposition import PCA\n",
    "from imblearn.over_sampling import RandomOverSampler\n",
    "from sklearn.model_selection import train_test_split\n",
    "from sklearn import tree\n",
    "from sklearn.ensemble import ExtraTreesClassifier\n",
    "from sklearn.metrics import accuracy_score, classification_report"
   ]
  },
  {
   "cell_type": "code",
   "execution_count": 2,
   "id": "b778fd0e-08fa-471d-acce-23115be3f4a0",
   "metadata": {},
   "outputs": [],
   "source": [
    "def load_dataset():\n",
    "    ds = []\n",
    "    for root, dirs, files in os.walk('CIC dataset/'):\n",
    "        for file in files:            \n",
    "            ds.append(pd.read_csv(os.path.join(root,file)))\n",
    "    # for i, data in enumerate(ds, start=1):\n",
    "    #     rows, cols = data.shape\n",
    "    #     print(f'ds{i} -> {rows} rows, {cols} columns')\n",
    "    return ds"
   ]
  },
  {
   "cell_type": "code",
   "execution_count": 3,
   "id": "9cbff917-e831-41ef-afa7-d832326e9943",
   "metadata": {},
   "outputs": [],
   "source": [
    "def preprocess_data(datas):    \n",
    "    #merging data\n",
    "    data = pd.concat(datas, axis = 0, ignore_index = True)\n",
    "    print(f\"Before duplicate removal{data.shape}\")\n",
    "\n",
    "    #remove leading or trailing whitespace from col names\n",
    "    col_names = {col: col.strip() for col in data.columns}\n",
    "    data.rename(columns = col_names, inplace = True)\n",
    "    \n",
    "    #duplicate rows removal\n",
    "    data = data.drop_duplicates(keep = 'first')\n",
    "    \n",
    "    #duplicate columns removal\n",
    "    columns = data.columns\n",
    "    identical_columns =[]\n",
    "    list_control = columns.copy().tolist()\n",
    "    for col1 in columns:\n",
    "        for col2 in columns:\n",
    "            if(col1!=col2):\n",
    "                if(data[col1].equals(data[col2])):\n",
    "                    if(col2 not in identical_columns and col2 in list_control):\n",
    "                        identical_columns.append(col2)\n",
    "                        if col1 in list_control:\n",
    "                            list_control.remove(col1)\n",
    "                        if col2 in list_control: \n",
    "                            list_control.remove(col2)\n",
    "                    elif(col2 in identical_columns and col2 in list_control):\n",
    "                        if col2 in list_control: \n",
    "                            list_control.remove(col2)    \n",
    "    for col in identical_columns:\n",
    "        data.drop(columns = col, inplace = True)\n",
    "                    \n",
    "    print(f\"After duplicate removal{data.shape}\")\n",
    "    \n",
    "    # Treating infinite values\n",
    "    data.replace([np.inf, -np.inf], np.nan, inplace=True)\n",
    "    \n",
    "    #removing rows with missing values\n",
    "    missing_rows = data.isna().any(axis=1).sum()\n",
    "    print(f'\\nTotal rows with missing values: {missing_rows}')\n",
    "    data = data.dropna()\n",
    "    nan_count = data.isnull().sum().sum()\n",
    "    print(f\"Total NaN values: {nan_count}\")\n",
    "    \n",
    "\n",
    "    \n",
    "    print(f\"After missing value rows' removal{data.shape}\")\n",
    "    \n",
    "    #splitting data\n",
    "    target = data['Label']\n",
    "    features = data.drop('Label',axis = 1)\n",
    "\n",
    "    \n",
    "    return features,target"
   ]
  },
  {
   "cell_type": "code",
   "execution_count": 4,
   "id": "e591a9cd-cfa2-48cc-8ba0-da15bf3f0550",
   "metadata": {},
   "outputs": [],
   "source": [
    "def encode_data(data):\n",
    "    encoder = LabelEncoder()\n",
    "    for col in data.columns:\n",
    "        if(data[col].dtype == 'object'):\n",
    "            data[col] = encoder.fit_transform(data[col])\n",
    "    nan_count = data.isnull().sum().sum()\n",
    "    print(f\"Total NaN values: {nan_count}\")\n",
    "    return ds"
   ]
  },
  {
   "cell_type": "code",
   "execution_count": 5,
   "id": "8155665a-19c0-4162-85d0-85acae6016bb",
   "metadata": {},
   "outputs": [],
   "source": [
    "def standardize_data(data):\n",
    "    scaler = StandardScaler()\n",
    "    nan_count = data.isnull().sum().sum()\n",
    "    print(f\"Total NaN values: {nan_count}\")\n",
    "    return scaler.fit_transform(data)"
   ]
  },
  {
   "cell_type": "code",
   "execution_count": 6,
   "id": "53d96a9e-e6d0-41b5-a9bd-7d4b898c1459",
   "metadata": {},
   "outputs": [],
   "source": [
    "def oversample(data,target):\n",
    "    sampler = RandomOverSampler(sampling_strategy = 'minority')\n",
    "    new_data,new_target = sampler.fit_resample(data,target)\n",
    "    return new_data, new_target"
   ]
  },
  {
   "cell_type": "code",
   "execution_count": 7,
   "id": "ae506bfd-d7d7-4e4b-acfe-d267fd754db1",
   "metadata": {},
   "outputs": [],
   "source": [
    "def dimensionality_reduction(data):    \n",
    "    pca = PCA(n_components = 10)\n",
    "    data = pca.fit_transform(data)\n",
    "    return data"
   ]
  },
  {
   "cell_type": "code",
   "execution_count": 45,
   "id": "acddadb1-ce1c-4721-8902-243467d54815",
   "metadata": {},
   "outputs": [],
   "source": [
    "def decision_tree(features, labels, test_x, test_y):\n",
    "    classifier = tree.DecisionTreeClassifier()\n",
    "    classifier.fit(features,labels)\n",
    "    # tree.plot_tree(classifier, max_depth = 3)\n",
    "    predictions = classifier.predict(test_x)\n",
    "    accuracy = accuracy_score(test_y, predictions)\n",
    "    report = classification_report(test_y, predictions) \n",
    "    print(f\"Accuracy = {accuracy*100}\")\n",
    "    print(f\"Report = \\n{report}\")"
   ]
  },
  {
   "cell_type": "code",
   "execution_count": 63,
   "id": "98d520bb-5997-451b-b101-2d2a4e0cb1f9",
   "metadata": {},
   "outputs": [],
   "source": [
    "def extra_tree(features, labels, test_x, test_y):\n",
    "    classifier = ExtraTreesClassifier(n_estimators = 100)\n",
    "    classifier.fit(features,labels)\n",
    "    predictions = classifier.predict(test_x)\n",
    "    accuracy = accuracy_score(test_y, predictions)\n",
    "    report = classification_report(test_y, predictions) \n",
    "    print(f\"Accuracy = {accuracy*100}\")\n",
    "    print(f\"Report = \\n{report}\")"
   ]
  },
  {
   "cell_type": "code",
   "execution_count": 9,
   "id": "2bb25219-eb0d-4f4a-948f-e53cb9d19a2f",
   "metadata": {},
   "outputs": [],
   "source": [
    "ds = load_dataset()"
   ]
  },
  {
   "cell_type": "code",
   "execution_count": 10,
   "id": "a7753987-2883-4d8f-a999-4a74d57a1671",
   "metadata": {},
   "outputs": [
    {
     "name": "stdout",
     "output_type": "stream",
     "text": [
      "Before duplicate removal(2830743, 79)\n",
      "After duplicate removal(2522362, 67)\n",
      "\n",
      "Total rows with missing values: 1564\n",
      "Total NaN values: 0\n",
      "After missing value rows' removal(2520798, 67)\n"
     ]
    }
   ],
   "source": [
    "ds,target = preprocess_data(ds)"
   ]
  },
  {
   "cell_type": "code",
   "execution_count": 16,
   "id": "e37af536-bd34-4915-8b71-7c76b18554ae",
   "metadata": {},
   "outputs": [
    {
     "name": "stdout",
     "output_type": "stream",
     "text": [
      "Total NaN values: 0\n"
     ]
    }
   ],
   "source": [
    "#convert categorical values to numerical\n",
    "ds = encode_data(ds)\n"
   ]
  },
  {
   "cell_type": "code",
   "execution_count": 20,
   "id": "f63dad4d-352a-434c-a59a-52d993d36306",
   "metadata": {},
   "outputs": [
    {
     "name": "stdout",
     "output_type": "stream",
     "text": [
      "Total NaN values: 0\n"
     ]
    }
   ],
   "source": [
    "ds = standardize_data(ds)"
   ]
  },
  {
   "cell_type": "code",
   "execution_count": 21,
   "id": "9a30cd23-ef75-4c2f-b899-5ecaaa67adb2",
   "metadata": {},
   "outputs": [
    {
     "name": "stdout",
     "output_type": "stream",
     "text": [
      "DS shape: (4615844, 66)\n"
     ]
    }
   ],
   "source": [
    "ds,target = oversample(ds,target)\n",
    "print(\"DS shape:\", ds.shape)"
   ]
  },
  {
   "cell_type": "code",
   "execution_count": 22,
   "id": "8f884449-94f5-481d-9587-8243a5997955",
   "metadata": {},
   "outputs": [
    {
     "name": "stdout",
     "output_type": "stream",
     "text": [
      "DS shape: (4615844, 10)\n",
      "[[-9.391445791325527 -1.4884928546516967 0.3021858419694866 ...\n",
      "  0.30749211012599464 1.199261440242548 'BENIGN']\n",
      " [-9.446310825895623 -1.3939967465666345 0.34395760069340714 ...\n",
      "  0.0698971937030779 0.13214277166781757 'BENIGN']\n",
      " [-9.451350528077601 -1.40375439712791 0.3447465993256427 ...\n",
      "  0.07696767021108439 0.17669485395849222 'BENIGN']\n",
      " ...\n",
      " [10.145300262028423 -0.8109020888652607 1.5127354942850078 ...\n",
      "  -0.2633571118269411 -0.17667607445016498 'Heartbleed']\n",
      " [9.569992903159497 -0.8676613326192604 1.7725376304831866 ...\n",
      "  -0.2884609398349668 -0.35859377394563013 'Heartbleed']\n",
      " [9.933300218740728 -0.7859763913912146 1.6949860063520286 ...\n",
      "  -0.17846949223997627 -0.38752692967888597 'Heartbleed']]\n"
     ]
    }
   ],
   "source": [
    "ds = dimensionality_reduction(ds)\n",
    "print(\"DS shape:\", ds.shape)\n",
    "ds = np.column_stack((ds,target))\n",
    "print(ds)"
   ]
  },
  {
   "cell_type": "code",
   "execution_count": 23,
   "id": "f45d515e-4303-4a5f-91b7-14e4c3902ab0",
   "metadata": {},
   "outputs": [],
   "source": [
    "train_data, test_data = train_test_split(ds, test_size = 0.2)\n",
    "# test_data = np.delete(test_data, 10,1)\n",
    "x_train = train_data[:,:-1]\n",
    "y_train = train_data[:,-1]\n",
    "x_test = test_data[:,:-1]\n",
    "y_test = test_data[:,-1]"
   ]
  },
  {
   "cell_type": "code",
   "execution_count": 47,
   "id": "e225af52-3917-41b0-8145-686f513e923c",
   "metadata": {},
   "outputs": [
    {
     "name": "stdout",
     "output_type": "stream",
     "text": [
      "Accuracy = 99.82397589173814\n",
      "Report = \n",
      "                            precision    recall  f1-score   support\n",
      "\n",
      "                    BENIGN       1.00      1.00      1.00    419627\n",
      "                       Bot       0.63      0.68      0.65       368\n",
      "                      DDoS       1.00      1.00      1.00     25303\n",
      "             DoS GoldenEye       0.97      0.97      0.97      2064\n",
      "                  DoS Hulk       1.00      1.00      1.00     34670\n",
      "          DoS Slowhttptest       0.98      0.98      0.98      1016\n",
      "             DoS slowloris       0.99      0.97      0.98      1064\n",
      "               FTP-Patator       1.00      1.00      1.00      1192\n",
      "                Heartbleed       1.00      1.00      1.00    418781\n",
      "              Infiltration       0.33      0.09      0.14        11\n",
      "                  PortScan       0.98      0.98      0.98     18023\n",
      "               SSH-Patator       0.97      0.97      0.97       632\n",
      "  Web Attack � Brute Force       0.74      0.71      0.72       293\n",
      "Web Attack � Sql Injection       0.00      0.00      0.00         3\n",
      "          Web Attack � XSS       0.37      0.41      0.39       122\n",
      "\n",
      "                  accuracy                           1.00    923169\n",
      "                 macro avg       0.80      0.78      0.79    923169\n",
      "              weighted avg       1.00      1.00      1.00    923169\n",
      "\n"
     ]
    }
   ],
   "source": [
    "decision_tree(x_train,y_train, x_test, y_test)"
   ]
  },
  {
   "cell_type": "code",
   "execution_count": 65,
   "id": "dcb7ea63-3bdd-4ac8-85db-8b71e1883dd8",
   "metadata": {},
   "outputs": [
    {
     "ename": "TypeError",
     "evalue": "got an unexpected keyword argument 'zero_division'",
     "output_type": "error",
     "traceback": [
      "\u001b[1;31m---------------------------------------------------------------------------\u001b[0m",
      "\u001b[1;31mTypeError\u001b[0m                                 Traceback (most recent call last)",
      "Cell \u001b[1;32mIn[65], line 1\u001b[0m\n\u001b[1;32m----> 1\u001b[0m extra_tree(x_train,y_train, x_test, y_test)\n",
      "Cell \u001b[1;32mIn[63], line 5\u001b[0m, in \u001b[0;36mextra_tree\u001b[1;34m(features, labels, test_x, test_y)\u001b[0m\n\u001b[0;32m      3\u001b[0m classifier\u001b[38;5;241m.\u001b[39mfit(features,labels)\n\u001b[0;32m      4\u001b[0m predictions \u001b[38;5;241m=\u001b[39m classifier\u001b[38;5;241m.\u001b[39mpredict(test_x)\n\u001b[1;32m----> 5\u001b[0m accuracy \u001b[38;5;241m=\u001b[39m accuracy_score(test_y, predictions,zero_division\u001b[38;5;241m=\u001b[39m\u001b[38;5;241m1\u001b[39m)\n\u001b[0;32m      6\u001b[0m report \u001b[38;5;241m=\u001b[39m classification_report(test_y, predictions) \n\u001b[0;32m      7\u001b[0m \u001b[38;5;28mprint\u001b[39m(\u001b[38;5;124mf\u001b[39m\u001b[38;5;124m\"\u001b[39m\u001b[38;5;124mAccuracy = \u001b[39m\u001b[38;5;132;01m{\u001b[39;00maccuracy\u001b[38;5;241m*\u001b[39m\u001b[38;5;241m100\u001b[39m\u001b[38;5;132;01m}\u001b[39;00m\u001b[38;5;124m\"\u001b[39m)\n",
      "File \u001b[1;32m~\\anaconda3\\Lib\\site-packages\\sklearn\\utils\\_param_validation.py:191\u001b[0m, in \u001b[0;36mvalidate_params.<locals>.decorator.<locals>.wrapper\u001b[1;34m(*args, **kwargs)\u001b[0m\n\u001b[0;32m    188\u001b[0m func_sig \u001b[38;5;241m=\u001b[39m signature(func)\n\u001b[0;32m    190\u001b[0m \u001b[38;5;66;03m# Map *args/**kwargs to the function signature\u001b[39;00m\n\u001b[1;32m--> 191\u001b[0m params \u001b[38;5;241m=\u001b[39m func_sig\u001b[38;5;241m.\u001b[39mbind(\u001b[38;5;241m*\u001b[39margs, \u001b[38;5;241m*\u001b[39m\u001b[38;5;241m*\u001b[39mkwargs)\n\u001b[0;32m    192\u001b[0m params\u001b[38;5;241m.\u001b[39mapply_defaults()\n\u001b[0;32m    194\u001b[0m \u001b[38;5;66;03m# ignore self/cls and positional/keyword markers\u001b[39;00m\n",
      "File \u001b[1;32m~\\anaconda3\\Lib\\inspect.py:3273\u001b[0m, in \u001b[0;36mSignature.bind\u001b[1;34m(self, *args, **kwargs)\u001b[0m\n\u001b[0;32m   3268\u001b[0m \u001b[38;5;28;01mdef\u001b[39;00m \u001b[38;5;21mbind\u001b[39m(\u001b[38;5;28mself\u001b[39m, \u001b[38;5;241m/\u001b[39m, \u001b[38;5;241m*\u001b[39margs, \u001b[38;5;241m*\u001b[39m\u001b[38;5;241m*\u001b[39mkwargs):\n\u001b[0;32m   3269\u001b[0m \u001b[38;5;250m    \u001b[39m\u001b[38;5;124;03m\"\"\"Get a BoundArguments object, that maps the passed `args`\u001b[39;00m\n\u001b[0;32m   3270\u001b[0m \u001b[38;5;124;03m    and `kwargs` to the function's signature.  Raises `TypeError`\u001b[39;00m\n\u001b[0;32m   3271\u001b[0m \u001b[38;5;124;03m    if the passed arguments can not be bound.\u001b[39;00m\n\u001b[0;32m   3272\u001b[0m \u001b[38;5;124;03m    \"\"\"\u001b[39;00m\n\u001b[1;32m-> 3273\u001b[0m     \u001b[38;5;28;01mreturn\u001b[39;00m \u001b[38;5;28mself\u001b[39m\u001b[38;5;241m.\u001b[39m_bind(args, kwargs)\n",
      "File \u001b[1;32m~\\anaconda3\\Lib\\inspect.py:3262\u001b[0m, in \u001b[0;36mSignature._bind\u001b[1;34m(self, args, kwargs, partial)\u001b[0m\n\u001b[0;32m   3252\u001b[0m         \u001b[38;5;28;01mraise\u001b[39;00m \u001b[38;5;167;01mTypeError\u001b[39;00m(\n\u001b[0;32m   3253\u001b[0m             \u001b[38;5;124m'\u001b[39m\u001b[38;5;124mgot some positional-only arguments passed as \u001b[39m\u001b[38;5;124m'\u001b[39m\n\u001b[0;32m   3254\u001b[0m             \u001b[38;5;124m'\u001b[39m\u001b[38;5;124mkeyword arguments: \u001b[39m\u001b[38;5;132;01m{arg!r}\u001b[39;00m\u001b[38;5;124m'\u001b[39m\u001b[38;5;241m.\u001b[39mformat(\n\u001b[1;32m   (...)\u001b[0m\n\u001b[0;32m   3259\u001b[0m             ),\n\u001b[0;32m   3260\u001b[0m         )\n\u001b[0;32m   3261\u001b[0m     \u001b[38;5;28;01melse\u001b[39;00m:\n\u001b[1;32m-> 3262\u001b[0m         \u001b[38;5;28;01mraise\u001b[39;00m \u001b[38;5;167;01mTypeError\u001b[39;00m(\n\u001b[0;32m   3263\u001b[0m             \u001b[38;5;124m'\u001b[39m\u001b[38;5;124mgot an unexpected keyword argument \u001b[39m\u001b[38;5;132;01m{arg!r}\u001b[39;00m\u001b[38;5;124m'\u001b[39m\u001b[38;5;241m.\u001b[39mformat(\n\u001b[0;32m   3264\u001b[0m                 arg\u001b[38;5;241m=\u001b[39m\u001b[38;5;28mnext\u001b[39m(\u001b[38;5;28miter\u001b[39m(kwargs))))\n\u001b[0;32m   3266\u001b[0m \u001b[38;5;28;01mreturn\u001b[39;00m \u001b[38;5;28mself\u001b[39m\u001b[38;5;241m.\u001b[39m_bound_arguments_cls(\u001b[38;5;28mself\u001b[39m, arguments)\n",
      "\u001b[1;31mTypeError\u001b[0m: got an unexpected keyword argument 'zero_division'"
     ]
    }
   ],
   "source": [
    "extra_tree(x_train,y_train, x_test, y_test)"
   ]
  },
  {
   "cell_type": "code",
   "execution_count": null,
   "id": "aa20e8aa-fb57-4aa8-85a7-6e03c9dd2198",
   "metadata": {},
   "outputs": [],
   "source": []
  }
 ],
 "metadata": {
  "kernelspec": {
   "display_name": "Python [conda env:base] *",
   "language": "python",
   "name": "conda-base-py"
  },
  "language_info": {
   "codemirror_mode": {
    "name": "ipython",
    "version": 3
   },
   "file_extension": ".py",
   "mimetype": "text/x-python",
   "name": "python",
   "nbconvert_exporter": "python",
   "pygments_lexer": "ipython3",
   "version": "3.12.7"
  }
 },
 "nbformat": 4,
 "nbformat_minor": 5
}
