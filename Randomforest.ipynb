{
 "cells": [
  {
   "cell_type": "code",
   "execution_count": 2,
   "id": "2bd195e5-fce0-40f7-a794-758cbbd6a588",
   "metadata": {},
   "outputs": [
    {
     "name": "stderr",
     "output_type": "stream",
     "text": [
      "/Users/ananthakrishnan/Documents/Code/ML/Mini/venv_name/lib/python3.13/site-packages/tqdm/auto.py:21: TqdmWarning: IProgress not found. Please update jupyter and ipywidgets. See https://ipywidgets.readthedocs.io/en/stable/user_install.html\n",
      "  from .autonotebook import tqdm as notebook_tqdm\n"
     ]
    }
   ],
   "source": [
    "import pandas as pd\n",
    "import numpy as np\n",
    "import os\n",
    "import kagglehub\n",
    "from sklearn.ensemble import RandomForestClassifier\n",
    "from sklearn.model_selection import train_test_split\n",
    "from sklearn.preprocessing import LabelEncoder\n",
    "from sklearn.decomposition import PCA\n",
    "from sklearn.preprocessing import StandardScaler"
   ]
  },
  {
   "cell_type": "code",
   "execution_count": 3,
   "id": "6bafeb71-8e18-4f7e-8a8d-966c6588d335",
   "metadata": {},
   "outputs": [
    {
     "name": "stdout",
     "output_type": "stream",
     "text": [
      "Dataset downloaded to: /Users/ananthakrishnan/.cache/kagglehub/datasets/chethuhn/network-intrusion-dataset/versions/1\n"
     ]
    }
   ],
   "source": [
    "datasetpath = kagglehub.dataset_download('chethuhn/network-intrusion-dataset')\n",
    "print(f\"Dataset downloaded to: {datasetpath}\")"
   ]
  },
  {
   "cell_type": "code",
   "execution_count": 4,
   "id": "0520d148-3ffa-452a-a3a3-14246c8eb2aa",
   "metadata": {},
   "outputs": [],
   "source": [
    "datasetfile = os.path.join(datasetpath, 'network_intrusion_data.csv')"
   ]
  },
  {
   "cell_type": "code",
   "execution_count": 5,
   "id": "bb17f5bb-4def-4f2d-a380-455a05a31764",
   "metadata": {},
   "outputs": [],
   "source": [
    "files = os.listdir(datasetpath)\n",
    "csv_files = []\n",
    "for file in files:\n",
    "    if file.endswith('.csv'):\n",
    "        csv_files.append(file)"
   ]
  },
  {
   "cell_type": "code",
   "execution_count": 6,
   "id": "858f8837-ba33-42de-9115-cac2aee34d76",
   "metadata": {},
   "outputs": [],
   "source": [
    "data = pd.DataFrame()"
   ]
  },
  {
   "cell_type": "code",
   "execution_count": 7,
   "id": "dfaf954c-e73f-4915-b11a-17518e0b19f5",
   "metadata": {},
   "outputs": [
    {
     "name": "stdout",
     "output_type": "stream",
     "text": [
      "Empty DataFrame\n",
      "Columns: []\n",
      "Index: []\n"
     ]
    }
   ],
   "source": [
    "print(data.head())"
   ]
  },
  {
   "cell_type": "code",
   "execution_count": 8,
   "id": "502f6a2a-1b61-4b5b-a51c-b5a52aba02bb",
   "metadata": {},
   "outputs": [],
   "source": [
    "for file in csv_files:\n",
    "        file_path = os.path.join(datasetpath, file)\n",
    "        temp_data = pd.read_csv(file_path)\n",
    "        data = pd.concat([data, temp_data], ignore_index=True)"
   ]
  },
  {
   "cell_type": "code",
   "execution_count": 9,
   "id": "73edf58d-e3ac-4617-9eeb-085908064558",
   "metadata": {},
   "outputs": [],
   "source": [
    "col_names = {col: col.strip() for col in data.columns}\n",
    "data.rename(columns = col_names, inplace = True)"
   ]
  },
  {
   "cell_type": "code",
   "execution_count": 10,
   "id": "5b5f1f74-cd21-4d97-8cbe-2b08a750c66e",
   "metadata": {},
   "outputs": [],
   "source": [
    "data.replace([np.inf,-np.inf],np.nan,inplace=True)\n",
    "data.dropna(inplace=True)\n",
    "data.drop_duplicates(inplace=True)"
   ]
  },
  {
   "cell_type": "code",
   "execution_count": 11,
   "id": "eb7f46b3-a2b2-465f-a5eb-3cc2f798153e",
   "metadata": {},
   "outputs": [],
   "source": [
    "target = data['Label']\n",
    "features = data.drop(columns=['Label'])"
   ]
  },
  {
   "cell_type": "code",
   "execution_count": 12,
   "id": "c221e4ee-4e09-4744-b982-23a76af81c39",
   "metadata": {},
   "outputs": [],
   "source": [
    "categorical_columns = features.select_dtypes(include=['object']).columns.tolist()\n",
    "encoder = LabelEncoder()\n",
    "for col in categorical_columns:\n",
    "    features[col] = encoder.fit_transform(features[col].astype(str))"
   ]
  },
  {
   "cell_type": "code",
   "execution_count": 13,
   "id": "4e30e798-4456-4dd4-ae9d-3f3cf2401226",
   "metadata": {},
   "outputs": [],
   "source": [
    "numerical_columns = features.select_dtypes(include=['float64', 'int64']).columns.tolist()\n",
    "scaler = StandardScaler()\n",
    "features[numerical_columns] = scaler.fit_transform(features[numerical_columns])"
   ]
  },
  {
   "cell_type": "code",
   "execution_count": 14,
   "id": "ff3c9dd2-07a7-4ba2-ab05-da8f363ce220",
   "metadata": {},
   "outputs": [],
   "source": [
    "n_features = features.shape[1]\n",
    "pca = PCA(n_components=min(n_features, 50)) \n",
    "features_pca = pca.fit_transform(features)"
   ]
  },
  {
   "cell_type": "code",
   "execution_count": 15,
   "id": "3806fd2a-18b4-482e-8ae9-7c8a7169d0ca",
   "metadata": {},
   "outputs": [],
   "source": [
    "X_train, X_test, y_train, y_test = train_test_split(features_pca, target, test_size=0.2, random_state=42)\n"
   ]
  },
  {
   "cell_type": "code",
   "execution_count": null,
   "id": "a104dfdd-ac94-4f36-9d38-3186435deda0",
   "metadata": {},
   "outputs": [],
   "source": []
  }
 ],
 "metadata": {
  "kernelspec": {
   "display_name": "Python 3 (ipykernel)",
   "language": "python",
   "name": "python3"
  },
  "language_info": {
   "codemirror_mode": {
    "name": "ipython",
    "version": 3
   },
   "file_extension": ".py",
   "mimetype": "text/x-python",
   "name": "python",
   "nbconvert_exporter": "python",
   "pygments_lexer": "ipython3",
   "version": "3.13.0"
  }
 },
 "nbformat": 4,
 "nbformat_minor": 5
}
